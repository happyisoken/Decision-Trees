{
 "cells": [
  {
   "cell_type": "markdown",
   "id": "372ce52e-dd01-4acf-bd6f-7029f630b1f7",
   "metadata": {},
   "source": [
    "#### Introduction to Decision Trees\n",
    "\n",
    "##### What is a decision tree?\n",
    "The basic intuition behind a decision tree is to map out all possibles decision paths in the form of a tree.\n",
    "\n",
    "##### Decision tree learning algorithm\n",
    "1. Choose an attribute from your dataset.\n",
    "2. Calculate the significance of attribute in splitting of data.\n",
    "3. Split data based on the value of the best attribute.\n",
    "4. Got to step 1.\n",
    "\n",
    "##### Building Decision Trees\n"
   ]
  }
 ],
 "metadata": {
  "kernelspec": {
   "display_name": "Python 3 (ipykernel)",
   "language": "python",
   "name": "python3"
  },
  "language_info": {
   "codemirror_mode": {
    "name": "ipython",
    "version": 3
   },
   "file_extension": ".py",
   "mimetype": "text/x-python",
   "name": "python",
   "nbconvert_exporter": "python",
   "pygments_lexer": "ipython3",
   "version": "3.9.13"
  }
 },
 "nbformat": 4,
 "nbformat_minor": 5
}
